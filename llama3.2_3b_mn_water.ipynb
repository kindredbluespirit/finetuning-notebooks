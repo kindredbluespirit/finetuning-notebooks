{
 "cells": [
  {
   "cell_type": "markdown",
   "metadata": {},
   "source": [
    "https://www.pca.state.mn.us/air-water-land-climate/water-quality"
   ]
  },
  {
   "cell_type": "code",
   "execution_count": 1,
   "metadata": {},
   "outputs": [
    {
     "name": "stdout",
     "output_type": "stream",
     "text": [
      "/home/user/unshared/finetuning-notebooks/.venv/bin/python\n",
      "/usr/bin/uv\n",
      "/home/user/unshared/finetuning-notebooks\n",
      "/home/user/unshared/finetuning-notebooks/.venv/bin/vllm\n"
     ]
    }
   ],
   "source": [
    "!which python\n",
    "!which uv\n",
    "!pwd\n",
    "!which vllm\n",
    "# !echo $PATH"
   ]
  },
  {
   "cell_type": "code",
   "execution_count": 2,
   "metadata": {},
   "outputs": [
    {
     "name": "stdout",
     "output_type": "stream",
     "text": [
      "\u001b[2K\u001b[2mResolved \u001b[1m1 package\u001b[0m \u001b[2min 381ms\u001b[0m\u001b[0m                                          \u001b[0m\n",
      "\u001b[2mAudited \u001b[1m1 package\u001b[0m \u001b[2min 0.14ms\u001b[0m\u001b[0m\n",
      "\u001b[2mAudited \u001b[1m1 package\u001b[0m \u001b[2min 6ms\u001b[0m\u001b[0m\n"
     ]
    }
   ],
   "source": [
    "!uv pip install git+https://github.com/unslothai/unsloth.git\n",
    "!uv pip install synthetic-data-kit\n",
    "# !uv pip install vllm"
   ]
  },
  {
   "cell_type": "code",
   "execution_count": null,
   "metadata": {},
   "outputs": [
    {
     "name": "stdout",
     "output_type": "stream",
     "text": [
      "Loading config from: /home/user/unshared/finetuning-notebooks/.venv/lib/python3.12/site-packages/synthetic_data_kit/config.yaml\n",
      "Config has LLM provider set to: api-endpoint\n",
      "Loading config from: /home/user/unshared/finetuning-notebooks/.venv/lib/python3.12/site-packages/synthetic_data_kit/config.yaml\n",
      "Config has LLM provider set to: api-endpoint\n",
      "Loading config from: synthetic-data-kit-config.yaml\n",
      "Config has LLM provider set to: vllm\n",
      "\u001b[1;34mEnvironment variable check:\u001b[0m\n",
      "API_ENDPOINT_KEY: Not found\n",
      "get_llm_provider returning: vllm\n",
      "\u001b[?25l\u001b[32m vLLM server is running at \u001b[0m\u001b[4;94mhttp://localhost:8000/v1\u001b[0m\n",
      "\u001b[2KAvailable models: \u001b[1m{\u001b[0m\u001b[32m'object'\u001b[0m: \u001b[32m'list'\u001b[0m, \u001b[32m'data'\u001b[0m: \u001b[1m[\u001b[0m\u001b[1m{\u001b[0m\u001b[32m'id'\u001b[0m: \n",
      "\u001b[32m'unsloth/Llama-3.2-3B-Instruct-bnb-4bit'\u001b[0m, \u001b[32m'object'\u001b[0m: \u001b[32m'model'\u001b[0m, \u001b[32m'created'\u001b[0m: \n",
      "\u001b[1;36m1752314613\u001b[0m, \u001b[32m'owned_by'\u001b[0m: \u001b[32m'vllm'\u001b[0m, \u001b[32m'root'\u001b[0m: \n",
      "\u001b[32m'unsloth/Llama-3.2-3B-Instruct-bnb-4bit'\u001b[0m, \u001b[32m'parent'\u001b[0m: \u001b[3;35mNone\u001b[0m, \u001b[32m'max_model_len'\u001b[0m: \u001b[1;36m2048\u001b[0m,\n",
      "\u001b[32m'permission'\u001b[0m: \u001b[1m[\u001b[0m\u001b[1m{\u001b[0m\u001b[32m'id'\u001b[0m: \u001b[32m'modelperm-ba8de88a42694bc5b9e59579b6b4af45'\u001b[0m, \u001b[32m'object'\u001b[0m: \n",
      "\u001b[32m'model_permission'\u001b[0m, \u001b[32m'created'\u001b[0m: \u001b[1;36m1752314613\u001b[0m, \u001b[32m'allow_create_engine'\u001b[0m: \u001b[3;91mFalse\u001b[0m, \n",
      "\u001b[32m'allow_sampling'\u001b[0m: \u001b[3;92mTrue\u001b[0m, \u001b[32m'allow_logprobs'\u001b[0m: \u001b[3;92mTrue\u001b[0m, \u001b[32m'allow_search_indices'\u001b[0m: \u001b[3;91mFalse\u001b[0m, \n",
      "\u001b[32m'allow_view'\u001b[0m: \u001b[3;92mTrue\u001b[0m, \u001b[32m'allow_fine_tuning'\u001b[0m: \u001b[3;91mFalse\u001b[0m, \u001b[32m'organization'\u001b[0m: \u001b[32m'*'\u001b[0m, \u001b[32m'group'\u001b[0m: \n",
      "\u001b[3;35mNone\u001b[0m, \u001b[32m'is_blocking'\u001b[0m: \u001b[3;91mFalse\u001b[0m\u001b[1m}\u001b[0m\u001b[1m]\u001b[0m\u001b[1m}\u001b[0m\u001b[1m]\u001b[0m\u001b[1m}\u001b[0m\n",
      "\u001b[2K\u001b[32m⠋\u001b[0m Checking vLLM server at http://localhost:8000/v1...\n",
      "\u001b[1A\u001b[2K"
     ]
    }
   ],
   "source": [
    "# !uv run vllm serve unsloth/Llama-3.2-3B-Instruct-bnb-4bit --max-model-len 2048\n",
    "!synthetic-data-kit -c synthetic_data_kit_config.yaml system-check"
   ]
  },
  {
   "cell_type": "code",
   "execution_count": 5,
   "metadata": {},
   "outputs": [
    {
     "name": "stdout",
     "output_type": "stream",
     "text": [
      "Loading config from: /home/user/unshared/finetuning-notebooks/.venv/lib/python3.12/site-packages/synthetic_data_kit/config.yaml\n",
      "Config has LLM provider set to: api-endpoint\n",
      "Loading config from: /home/user/unshared/finetuning-notebooks/.venv/lib/python3.12/site-packages/synthetic_data_kit/config.yaml\n",
      "Config has LLM provider set to: api-endpoint\n",
      "Loading config from: synthetic-data-kit-config.yaml\n",
      "Config has LLM provider set to: vllm\n",
      "\u001b[2K\u001b[32m⠇\u001b[0m Processing https://www.pca.state.mn.us/sites/default/files/p-gen1-10.pdf.....\n",
      "\u001b[1A\u001b[2K\u001b[32m✅ Text successfully extracted to \u001b[0m\u001b[1;32mdata/parsed/www_pca_state_mn_us.txt\u001b[0m\n"
     ]
    }
   ],
   "source": [
    "!synthetic-data-kit -c synthetic_data_kit_config.yaml ingest \"https://www.pca.state.mn.us/sites/default/files/p-gen1-10.pdf\""
   ]
  },
  {
   "cell_type": "code",
   "execution_count": 19,
   "metadata": {},
   "outputs": [
    {
     "name": "stdout",
     "output_type": "stream",
     "text": [
      "Loading config from: /home/user/unshared/finetuning-notebooks/.venv/lib/python3.12/site-packages/synthetic_data_kit/config.yaml\n",
      "Config has LLM provider set to: api-endpoint\n",
      "Loading config from: /home/user/unshared/finetuning-notebooks/.venv/lib/python3.12/site-packages/synthetic_data_kit/config.yaml\n",
      "Config has LLM provider set to: api-endpoint\n",
      "Loading config from: synthetic_data_kit_config.yaml\n",
      "Config has LLM provider set to: vllm\n",
      "get_llm_provider returning: vllm\n",
      "\u001b[32m🔗 Using vllm provider\u001b[0m\n",
      "\u001b[?25lLoading config from: synthetic_data_kit_config.yaml\n",
      "\u001b[2KConfig has LLM provider set to: vllmta/parsed/www_pca_state_mn_us.txt...\n",
      "\u001b[2KL Using vllm providercontent from data/parsed/www_pca_state_mn_us.txt...\n",
      "\u001b[2KLoading config from: synthetic_data_kit_config.yamlca_state_mn_us.txt...\n",
      "\u001b[2KConfig has LLM provider set to: vllmta/parsed/www_pca_state_mn_us.txt...\n",
      "\u001b[2KProcessing 59 chunks to generate QA pairs...arsed/www_pca_state_mn_us.txt...\n",
      "\u001b[2KBatch processing complete.ontent from data/parsed/www_pca_state_mn_us.txt...\n",
      "\u001b[2KGenerated 100 QA pairs total (requested: 100)/www_pca_state_mn_us.txt...\n",
      "\u001b[2KSaving result to data/generated/www_pca_state_mn_us_qa_pairs.json.txt...\n",
      "\u001b[2KSuccessfully wrote test file to data/generated/test_write.json_us.txt...\n",
      "\u001b[2KSuccessfully wrote result to data/generated/www_pca_state_mn_us_qa_pairs.json\n",
      "\u001b[2K\u001b[32m⠴\u001b[0m Generating qa content from data/parsed/www_pca_state_mn_us.txt...\n",
      "\u001b[1A\u001b[2K\u001b[32m✅ Content saved to \u001b[0m\u001b[1;32mdata/generated/www_pca_state_mn_us_qa_pairs.json\u001b[0m\n"
     ]
    }
   ],
   "source": [
    "## https://github.com/meta-llama/synthetic-data-kit?tab=readme-ov-file#processing-a-single-pdf-document\n",
    "## https://github.com/meta-llama/synthetic-data-kit?tab=readme-ov-file#understanding-chunking-output\n",
    "\n",
    "# Generate QA pairs\n",
    "!synthetic-data-kit -c synthetic_data_kit_config.yaml create data/parsed/www_pca_state_mn_us.txt --chunk-size 512 --chunk-overlap 64 --num-pairs 100"
   ]
  },
  {
   "cell_type": "code",
   "execution_count": 24,
   "metadata": {},
   "outputs": [
    {
     "name": "stdout",
     "output_type": "stream",
     "text": [
      "Loading config from: /home/user/unshared/finetuning-notebooks/.venv/lib/python3.12/site-packages/synthetic_data_kit/config.yaml\n",
      "Config has LLM provider set to: api-endpoint\n",
      "Loading config from: /home/user/unshared/finetuning-notebooks/.venv/lib/python3.12/site-packages/synthetic_data_kit/config.yaml\n",
      "Config has LLM provider set to: api-endpoint\n",
      "Loading config from: synthetic_data_kit_config.yaml\n",
      "Config has LLM provider set to: vllm\n",
      "get_llm_provider returning: vllm\n",
      "\u001b[32m🔗 Using vllm provider\u001b[0m\n",
      "\u001b[?25lLoading config from: synthetic_data_kit_config.yaml\n",
      "\u001b[2KConfig has LLM provider set to: vllmnerated/www_pca_state_mn_us_qa_pairs.json...\n",
      "\u001b[2KLoading config from: synthetic_data_kit_config.yaml_state_mn_us_qa_pairs.json...\n",
      "\u001b[2KConfig has LLM provider set to: vllmnerated/www_pca_state_mn_us_qa_pairs.json...\n",
      "\u001b[2KProcessing 20 batches of QA pairs...nerated/www_pca_state_mn_us_qa_pairs.json...\n",
      "\u001b[2KBatch processing complete.t from data/generated/www_pca_state_mn_us_qa_pairs.json...\n",
      "\u001b[2KRated 44 QA pairsontent from data/generated/www_pca_state_mn_us_qa_pairs.json...\n",
      "\u001b[2KRetained 28 pairs (threshold: 8.5)generated/www_pca_state_mn_us_qa_pairs.json...\n",
      "\u001b[2KAverage score: 8.9ntent from data/generated/www_pca_state_mn_us_qa_pairs.json...\n",
      "\u001b[2K\u001b[32m⠸\u001b[0m Cleaning content from data/generated/www_pca_state_mn_us_qa_pairs.json...\n",
      "\u001b[1A\u001b[2K\u001b[32m✅ Cleaned content saved to \u001b[0m\n",
      "\u001b[1;32mdata/curated/www_pca_state_mn_us_qa_pairs_cleaned.json\u001b[0m\n"
     ]
    }
   ],
   "source": [
    "# Curate data\n",
    "!synthetic-data-kit -c synthetic_data_kit_config.yaml curate data/generated/www_pca_state_mn_us_qa_pairs.json -t 8.5"
   ]
  },
  {
   "cell_type": "code",
   "execution_count": 25,
   "metadata": {},
   "outputs": [
    {
     "name": "stdout",
     "output_type": "stream",
     "text": [
      "Loading config from: /home/user/unshared/finetuning-notebooks/.venv/lib/python3.12/site-packages/synthetic_data_kit/config.yaml\n",
      "Config has LLM provider set to: api-endpoint\n",
      "Loading config from: /home/user/unshared/finetuning-notebooks/.venv/lib/python3.12/site-packages/synthetic_data_kit/config.yaml\n",
      "Config has LLM provider set to: api-endpoint\n",
      "Loading config from: synthetic_data_kit_config.yaml\n",
      "Config has LLM provider set to: vllm\n",
      "\u001b[?25l\u001b[32m⠋\u001b[0m Converting data/curated/www_pca_state_mn_us_qa_pairs_cleaned.json to ft format\n",
      "with json storage...\n",
      "\u001b[1A\u001b[2K\u001b[1A\u001b[2K\u001b[32m✅ Converted to ft format and saved to \u001b[0m\n",
      "\u001b[1;32mdata/final/www_pca_state_mn_us_qa_pairs_cleaned_ft.json\u001b[0m\n"
     ]
    }
   ],
   "source": [
    "# Save in OpenAI fine-tuning format (JSON)\n",
    "!synthetic-data-kit -c synthetic_data_kit_config.yaml save-as data/curated/www_pca_state_mn_us_qa_pairs_cleaned.json -f ft\n",
    "\n",
    "# Save in OpenAI fine-tuning format (HF dataset)\n",
    "# !synthetic-data-kit -c synthetic_data_kit_config.yaml save-as data/curated/www_pca_state_mn_us_qa_pairs_cleaned.json -f ft --storage hf"
   ]
  },
  {
   "cell_type": "code",
   "execution_count": 27,
   "metadata": {},
   "outputs": [
    {
     "name": "stderr",
     "output_type": "stream",
     "text": [
      "/home/user/unshared/finetuning-notebooks/.venv/lib/python3.12/site-packages/tqdm/auto.py:21: TqdmWarning: IProgress not found. Please update jupyter and ipywidgets. See https://ipywidgets.readthedocs.io/en/stable/user_install.html\n",
      "  from .autonotebook import tqdm as notebook_tqdm\n"
     ]
    }
   ],
   "source": [
    "from datasets import Dataset\n",
    "import pandas as pd\n",
    "\n",
    "conversations = pd.read_json(\"data/final/www_pca_state_mn_us_qa_pairs_cleaned_ft.json\") \\\n",
    "    .reset_index(drop=True)\n",
    "\n",
    "dataset = Dataset.from_pandas(conversations)"
   ]
  },
  {
   "cell_type": "code",
   "execution_count": 30,
   "metadata": {},
   "outputs": [
    {
     "data": {
      "text/plain": [
       "{'messages': [{'content': 'You are a helpful assistant.', 'role': 'system'},\n",
       "  {'content': 'When did the MPCA start utilizing a watershed approach as an organizing principle for its activities?',\n",
       "   'role': 'user'},\n",
       "  {'content': '2007', 'role': 'assistant'}]}"
      ]
     },
     "execution_count": 30,
     "metadata": {},
     "output_type": "execute_result"
    }
   ],
   "source": [
    "dataset[1]"
   ]
  }
 ],
 "metadata": {
  "language_info": {
   "name": "python"
  }
 },
 "nbformat": 4,
 "nbformat_minor": 2
}
